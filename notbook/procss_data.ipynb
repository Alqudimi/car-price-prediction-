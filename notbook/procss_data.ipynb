{
 "cells": [
  {
   "cell_type": "code",
   "execution_count": 191,
   "id": "d21f7a60",
   "metadata": {},
   "outputs": [],
   "source": [
    "import pandas as pd\n",
    "import numpy as np\n",
    "from sklearn.preprocessing import StandardScaler, OneHotEncoder\n",
    "from sklearn.compose import ColumnTransformer\n",
    "from sklearn.pipeline import Pipeline\n",
    "from sklearn.impute import SimpleImputer\n",
    "from datetime import datetime\n",
    "import joblib"
   ]
  },
  {
   "cell_type": "code",
   "execution_count": 192,
   "id": "65aed32c",
   "metadata": {},
   "outputs": [],
   "source": [
    "RARE_CATEGORY_THRESHOLD = 0.01\n",
    "\n",
    "CAR_AGE_MIN_THRESHOLD = 0   \n",
    "CAR_AGE_MAX_THRESHOLD = 100 \n",
    "\n",
    "MILEAGE_MIN_THRESHOLD = 1000  \n",
    "MILEAGE_MAX_THRESHOLD = 500000\n",
    "\n",
    "RAW_DATA_PATH = '../data/raw/UsedCarsSA_Clean_EN.csv'\n",
    "OUTPUT_DATA_PATH = '../data/processed/procssed.csv'\n",
    "OUTPUT_PREPROCESSOR_PATH = '../output/models/preprocessor.joblib'"
   ]
  },
  {
   "cell_type": "code",
   "execution_count": 193,
   "id": "012df96f",
   "metadata": {},
   "outputs": [
    {
     "name": "stdout",
     "output_type": "stream",
     "text": [
      "<class 'pandas.core.frame.DataFrame'>\n",
      "RangeIndex: 8035 entries, 0 to 8034\n",
      "Data columns (total 13 columns):\n",
      " #   Column       Non-Null Count  Dtype  \n",
      "---  ------       --------------  -----  \n",
      " 0   Make         8035 non-null   object \n",
      " 1   Type         8035 non-null   object \n",
      " 2   Year         8035 non-null   int64  \n",
      " 3   Origin       8035 non-null   object \n",
      " 4   Color        8035 non-null   object \n",
      " 5   Options      8035 non-null   object \n",
      " 6   Engine_Size  8035 non-null   float64\n",
      " 7   Fuel_Type    8035 non-null   object \n",
      " 8   Gear_Type    8035 non-null   object \n",
      " 9   Mileage      8035 non-null   int64  \n",
      " 10  Region       8035 non-null   object \n",
      " 11  Price        8035 non-null   int64  \n",
      " 12  Negotiable   8035 non-null   bool   \n",
      "dtypes: bool(1), float64(1), int64(3), object(8)\n",
      "memory usage: 761.3+ KB\n"
     ]
    }
   ],
   "source": [
    "df = pd.read_csv(RAW_DATA_PATH)\n",
    "df.info()"
   ]
  },
  {
   "cell_type": "code",
   "execution_count": 194,
   "id": "cd3bf2ce",
   "metadata": {},
   "outputs": [],
   "source": [
    "if 'Link' in df.columns:\n",
    "    df = df.drop('Link', axis=1)"
   ]
  },
  {
   "cell_type": "code",
   "execution_count": 195,
   "id": "1bbdd92b",
   "metadata": {},
   "outputs": [
    {
     "data": {
      "text/plain": [
       "2527"
      ]
     },
     "execution_count": 195,
     "metadata": {},
     "output_type": "execute_result"
    }
   ],
   "source": [
    "df['Price'] = df['Price'].replace('Negotiable', np.nan)\n",
    "df['Price'] = pd.to_numeric(df['Price'], errors='coerce')\n",
    "df['Price'] = df['Price'].replace(0, np.nan)\n",
    "df['Price'].isna().sum()"
   ]
  },
  {
   "cell_type": "code",
   "execution_count": 196,
   "id": "1fb2bfec",
   "metadata": {},
   "outputs": [
    {
     "data": {
      "application/vnd.microsoft.datawrangler.viewer.v0+json": {
       "columns": [
        {
         "name": "index",
         "rawType": "int64",
         "type": "integer"
        },
        {
         "name": "Make",
         "rawType": "object",
         "type": "string"
        },
        {
         "name": "Type",
         "rawType": "object",
         "type": "string"
        },
        {
         "name": "Year",
         "rawType": "int64",
         "type": "integer"
        },
        {
         "name": "Origin",
         "rawType": "object",
         "type": "string"
        },
        {
         "name": "Color",
         "rawType": "object",
         "type": "string"
        },
        {
         "name": "Options",
         "rawType": "object",
         "type": "string"
        },
        {
         "name": "Engine_Size",
         "rawType": "float64",
         "type": "float"
        },
        {
         "name": "Fuel_Type",
         "rawType": "object",
         "type": "string"
        },
        {
         "name": "Gear_Type",
         "rawType": "object",
         "type": "string"
        },
        {
         "name": "Mileage",
         "rawType": "int64",
         "type": "integer"
        },
        {
         "name": "Region",
         "rawType": "object",
         "type": "string"
        },
        {
         "name": "Price",
         "rawType": "float64",
         "type": "float"
        },
        {
         "name": "Negotiable",
         "rawType": "bool",
         "type": "boolean"
        }
       ],
       "ref": "ad4501d1-4c39-4c22-94cd-f425132fe5d0",
       "rows": [
        [
         "0",
         "Chrysler",
         "C300",
         "2018",
         "Saudi",
         "Black",
         "Full",
         "5.7",
         "Gas",
         "Automatic",
         "103000",
         "Riyadh",
         "114000.0",
         "False"
        ],
        [
         "1",
         "Nissan",
         "Patrol",
         "2016",
         "Saudi",
         "White",
         "Full",
         "4.8",
         "Gas",
         "Automatic",
         "5448",
         "Riyadh",
         null,
         "True"
        ],
        [
         "2",
         "Nissan",
         "Sunny",
         "2019",
         "Saudi",
         "Silver",
         "Standard",
         "1.5",
         "Gas",
         "Automatic",
         "72418",
         "Riyadh",
         "27500.0",
         "False"
        ],
        [
         "3",
         "Hyundai",
         "Elantra",
         "2019",
         "Saudi",
         "Grey",
         "Standard",
         "1.6",
         "Gas",
         "Automatic",
         "114154",
         "Riyadh",
         "43000.0",
         "False"
        ],
        [
         "4",
         "Hyundai",
         "Elantra",
         "2019",
         "Saudi",
         "Silver",
         "Semi Full",
         "2.0",
         "Gas",
         "Automatic",
         "41912",
         "Riyadh",
         "59500.0",
         "False"
        ]
       ],
       "shape": {
        "columns": 13,
        "rows": 5
       }
      },
      "text/html": [
       "<div>\n",
       "<style scoped>\n",
       "    .dataframe tbody tr th:only-of-type {\n",
       "        vertical-align: middle;\n",
       "    }\n",
       "\n",
       "    .dataframe tbody tr th {\n",
       "        vertical-align: top;\n",
       "    }\n",
       "\n",
       "    .dataframe thead th {\n",
       "        text-align: right;\n",
       "    }\n",
       "</style>\n",
       "<table border=\"1\" class=\"dataframe\">\n",
       "  <thead>\n",
       "    <tr style=\"text-align: right;\">\n",
       "      <th></th>\n",
       "      <th>Make</th>\n",
       "      <th>Type</th>\n",
       "      <th>Year</th>\n",
       "      <th>Origin</th>\n",
       "      <th>Color</th>\n",
       "      <th>Options</th>\n",
       "      <th>Engine_Size</th>\n",
       "      <th>Fuel_Type</th>\n",
       "      <th>Gear_Type</th>\n",
       "      <th>Mileage</th>\n",
       "      <th>Region</th>\n",
       "      <th>Price</th>\n",
       "      <th>Negotiable</th>\n",
       "    </tr>\n",
       "  </thead>\n",
       "  <tbody>\n",
       "    <tr>\n",
       "      <th>0</th>\n",
       "      <td>Chrysler</td>\n",
       "      <td>C300</td>\n",
       "      <td>2018</td>\n",
       "      <td>Saudi</td>\n",
       "      <td>Black</td>\n",
       "      <td>Full</td>\n",
       "      <td>5.7</td>\n",
       "      <td>Gas</td>\n",
       "      <td>Automatic</td>\n",
       "      <td>103000</td>\n",
       "      <td>Riyadh</td>\n",
       "      <td>114000.0</td>\n",
       "      <td>False</td>\n",
       "    </tr>\n",
       "    <tr>\n",
       "      <th>1</th>\n",
       "      <td>Nissan</td>\n",
       "      <td>Patrol</td>\n",
       "      <td>2016</td>\n",
       "      <td>Saudi</td>\n",
       "      <td>White</td>\n",
       "      <td>Full</td>\n",
       "      <td>4.8</td>\n",
       "      <td>Gas</td>\n",
       "      <td>Automatic</td>\n",
       "      <td>5448</td>\n",
       "      <td>Riyadh</td>\n",
       "      <td>NaN</td>\n",
       "      <td>True</td>\n",
       "    </tr>\n",
       "    <tr>\n",
       "      <th>2</th>\n",
       "      <td>Nissan</td>\n",
       "      <td>Sunny</td>\n",
       "      <td>2019</td>\n",
       "      <td>Saudi</td>\n",
       "      <td>Silver</td>\n",
       "      <td>Standard</td>\n",
       "      <td>1.5</td>\n",
       "      <td>Gas</td>\n",
       "      <td>Automatic</td>\n",
       "      <td>72418</td>\n",
       "      <td>Riyadh</td>\n",
       "      <td>27500.0</td>\n",
       "      <td>False</td>\n",
       "    </tr>\n",
       "    <tr>\n",
       "      <th>3</th>\n",
       "      <td>Hyundai</td>\n",
       "      <td>Elantra</td>\n",
       "      <td>2019</td>\n",
       "      <td>Saudi</td>\n",
       "      <td>Grey</td>\n",
       "      <td>Standard</td>\n",
       "      <td>1.6</td>\n",
       "      <td>Gas</td>\n",
       "      <td>Automatic</td>\n",
       "      <td>114154</td>\n",
       "      <td>Riyadh</td>\n",
       "      <td>43000.0</td>\n",
       "      <td>False</td>\n",
       "    </tr>\n",
       "    <tr>\n",
       "      <th>4</th>\n",
       "      <td>Hyundai</td>\n",
       "      <td>Elantra</td>\n",
       "      <td>2019</td>\n",
       "      <td>Saudi</td>\n",
       "      <td>Silver</td>\n",
       "      <td>Semi Full</td>\n",
       "      <td>2.0</td>\n",
       "      <td>Gas</td>\n",
       "      <td>Automatic</td>\n",
       "      <td>41912</td>\n",
       "      <td>Riyadh</td>\n",
       "      <td>59500.0</td>\n",
       "      <td>False</td>\n",
       "    </tr>\n",
       "  </tbody>\n",
       "</table>\n",
       "</div>"
      ],
      "text/plain": [
       "       Make     Type  Year Origin   Color    Options  Engine_Size Fuel_Type  \\\n",
       "0  Chrysler     C300  2018  Saudi   Black       Full          5.7       Gas   \n",
       "1    Nissan   Patrol  2016  Saudi   White       Full          4.8       Gas   \n",
       "2    Nissan    Sunny  2019  Saudi  Silver   Standard          1.5       Gas   \n",
       "3   Hyundai  Elantra  2019  Saudi    Grey   Standard          1.6       Gas   \n",
       "4   Hyundai  Elantra  2019  Saudi  Silver  Semi Full          2.0       Gas   \n",
       "\n",
       "   Gear_Type  Mileage  Region     Price  Negotiable  \n",
       "0  Automatic   103000  Riyadh  114000.0       False  \n",
       "1  Automatic     5448  Riyadh       NaN        True  \n",
       "2  Automatic    72418  Riyadh   27500.0       False  \n",
       "3  Automatic   114154  Riyadh   43000.0       False  \n",
       "4  Automatic    41912  Riyadh   59500.0       False  "
      ]
     },
     "execution_count": 196,
     "metadata": {},
     "output_type": "execute_result"
    }
   ],
   "source": [
    "df.head()"
   ]
  },
  {
   "cell_type": "code",
   "execution_count": 197,
   "id": "cf8b21d5",
   "metadata": {},
   "outputs": [],
   "source": [
    "df['Negotiable'] = df['Negotiable'].astype(int)"
   ]
  },
  {
   "cell_type": "code",
   "execution_count": 198,
   "id": "90eb9c96",
   "metadata": {},
   "outputs": [
    {
     "data": {
      "text/plain": [
       "1059"
      ]
     },
     "execution_count": 198,
     "metadata": {},
     "output_type": "execute_result"
    }
   ],
   "source": [
    "df['Mileage'] = df['Mileage'].apply(lambda x: x if MILEAGE_MIN_THRESHOLD <= x <= MILEAGE_MAX_THRESHOLD else np.nan)\n",
    "df['Mileage'].isna().sum()"
   ]
  },
  {
   "cell_type": "code",
   "execution_count": 199,
   "id": "83916f12",
   "metadata": {},
   "outputs": [
    {
     "name": "stdout",
     "output_type": "stream",
     "text": [
      "\n",
      "      Car_Age None : 0\n",
      "      Droped Year : True\n",
      "      \n"
     ]
    }
   ],
   "source": [
    "current_year = datetime.now().year\n",
    "df['Car_Age'] = current_year - df['Year']\n",
    "df['mileage_par_age'] = df['Mileage'] / df['Car_Age'].replace(0,1)\n",
    "df = df.drop('Year', axis=1)\n",
    "dr = not 'Year' in df.columns\n",
    "print(f\"\"\"\n",
    "      Car_Age None : {df['Car_Age'].isna().sum()}\n",
    "      Droped Year : {dr}\n",
    "      \"\"\")\n"
   ]
  },
  {
   "cell_type": "code",
   "execution_count": 200,
   "id": "cb0a1018",
   "metadata": {},
   "outputs": [
    {
     "name": "stdout",
     "output_type": "stream",
     "text": [
      "Mileage None: | 1059 | type raw : Number\n",
      "Price None: | 2527 | type raw : Number\n",
      "mileage_par_age None: | 1059 | type raw : Number\n"
     ]
    }
   ],
   "source": [
    "numerical_cols_indemnity = []\n",
    "categorical_cols_indemnity = []\n",
    "for col in df.columns:\n",
    "    dr = df[col].isna().sum()\n",
    "    if dr > 0 :\n",
    "        if pd.api.types.is_numeric_dtype(df[col]):\n",
    "            numerical_cols_indemnity.append(col)\n",
    "            print(f\"{col} None: | {dr} | type raw : Number\")\n",
    "        else:\n",
    "            categorical_cols_indemnity.append(col)\n",
    "            print(f\"{col} None: | {dr} | type raw : String\")"
   ]
  },
  {
   "cell_type": "code",
   "execution_count": 201,
   "id": "65d1e65f",
   "metadata": {},
   "outputs": [],
   "source": [
    "for col in numerical_cols_indemnity:\n",
    "    if col in df.columns:\n",
    "        df[col].fillna(df[col].median(), inplace=True)"
   ]
  },
  {
   "cell_type": "code",
   "execution_count": 202,
   "id": "325b85d7",
   "metadata": {},
   "outputs": [],
   "source": [
    "def winsorize_column(series, lower_percentile=0.01, upper_percentile=0.99):\n",
    "    q1 = series.quantile(0.25)\n",
    "    q3 = series.quantile(0.75)\n",
    "    IR = q3 - q1\n",
    "    lower_bound = series.quantile(lower_percentile)\n",
    "    upper_bound = series.quantile(upper_percentile)\n",
    "    if ((series < (q1-1.5*IR)) | (series > (q3+1.5*IR))).any():\n",
    "        return series.clip(lower=lower_bound, upper=upper_bound)\n",
    "    return series"
   ]
  },
  {
   "cell_type": "code",
   "execution_count": 203,
   "id": "017e0412",
   "metadata": {},
   "outputs": [
    {
     "name": "stdout",
     "output_type": "stream",
     "text": [
      "Make Type: | object | type raw : String\n",
      "Type Type: | object | type raw : String\n",
      "Origin Type: | object | type raw : String\n",
      "Color Type: | object | type raw : String\n",
      "Options Type: | object | type raw : String\n",
      "Engine_Size Type: | float64 | type raw : Number\n",
      "Fuel_Type Type: | object | type raw : String\n",
      "Gear_Type Type: | object | type raw : String\n",
      "Mileage Type: | float64 | type raw : Number\n",
      "Region Type: | object | type raw : String\n",
      "Price Type: | float64 | type raw : Number\n",
      "Negotiable Type: | int32 | type raw : Number\n",
      "Car_Age Type: | int64 | type raw : Number\n",
      "mileage_par_age Type: | float64 | type raw : Number\n"
     ]
    }
   ],
   "source": [
    "numerical_cols = []\n",
    "categorical_cols = []\n",
    "for col in df.columns:\n",
    "    if pd.api.types.is_numeric_dtype(df[col]):\n",
    "        numerical_cols.append(col)\n",
    "        print(f\"{col} Type: | {df[col].dtype} | type raw : Number\")\n",
    "    else:\n",
    "        categorical_cols.append(col)\n",
    "        print(f\"{col} Type: | {df[col].dtype} | type raw : String\")"
   ]
  },
  {
   "cell_type": "code",
   "execution_count": 204,
   "id": "d398c739",
   "metadata": {},
   "outputs": [
    {
     "name": "stdout",
     "output_type": "stream",
     "text": [
      "<class 'pandas.core.frame.DataFrame'>\n",
      "RangeIndex: 8035 entries, 0 to 8034\n",
      "Data columns (total 14 columns):\n",
      " #   Column           Non-Null Count  Dtype  \n",
      "---  ------           --------------  -----  \n",
      " 0   Make             8035 non-null   object \n",
      " 1   Type             8035 non-null   object \n",
      " 2   Origin           8035 non-null   object \n",
      " 3   Color            8035 non-null   object \n",
      " 4   Options          8035 non-null   object \n",
      " 5   Engine_Size      8035 non-null   float64\n",
      " 6   Fuel_Type        8035 non-null   object \n",
      " 7   Gear_Type        8035 non-null   object \n",
      " 8   Mileage          8035 non-null   float64\n",
      " 9   Region           8035 non-null   object \n",
      " 10  Price            8035 non-null   float64\n",
      " 11  Negotiable       8035 non-null   int32  \n",
      " 12  Car_Age          8035 non-null   int64  \n",
      " 13  mileage_par_age  8035 non-null   float64\n",
      "dtypes: float64(4), int32(1), int64(1), object(8)\n",
      "memory usage: 847.6+ KB\n"
     ]
    }
   ],
   "source": [
    "for col in ['Price','Mileage']:\n",
    "    df[col] = winsorize_column(df[col])\n",
    "df.info()"
   ]
  },
  {
   "cell_type": "code",
   "execution_count": 205,
   "id": "2bf7b977",
   "metadata": {},
   "outputs": [],
   "source": [
    "def group_rare_categories(df, column, threshold):\n",
    "    counts = df[column].value_counts(normalize=True)\n",
    "    rare_categories = counts[counts < threshold].index\n",
    "    df[column] = df[column].replace(rare_categories, 'Rare')\n",
    "    return df"
   ]
  },
  {
   "cell_type": "code",
   "execution_count": 206,
   "id": "61db4f2c",
   "metadata": {},
   "outputs": [],
   "source": [
    "for col in ['Type','Region']:\n",
    "    df = group_rare_categories(df,col,RARE_CATEGORY_THRESHOLD)"
   ]
  },
  {
   "cell_type": "code",
   "execution_count": 207,
   "id": "e33dff73",
   "metadata": {},
   "outputs": [],
   "source": [
    "numerical_transformer = Pipeline(steps=[('scaler', StandardScaler())])\n",
    "categorical_transformer = Pipeline(steps=[('onehot', OneHotEncoder(handle_unknown='ignore'))])\n",
    "numerical_cols.remove('Price')\n",
    "preprocessor = ColumnTransformer(\n",
    "    transformers=[\n",
    "        ('num', numerical_transformer, numerical_cols),\n",
    "        ('cat', categorical_transformer, categorical_cols)])"
   ]
  },
  {
   "cell_type": "code",
   "execution_count": 208,
   "id": "ebbae39b",
   "metadata": {},
   "outputs": [
    {
     "data": {
      "text/plain": [
       "['Engine_Size', 'Mileage', 'Negotiable', 'Car_Age', 'mileage_par_age']"
      ]
     },
     "execution_count": 208,
     "metadata": {},
     "output_type": "execute_result"
    }
   ],
   "source": [
    "numerical_cols"
   ]
  },
  {
   "cell_type": "code",
   "execution_count": 209,
   "id": "3472a627",
   "metadata": {},
   "outputs": [],
   "source": [
    "X = df.drop('Price', axis=1)\n",
    "y = df['Price']\n",
    "X_processed = preprocessor.fit_transform(X)"
   ]
  },
  {
   "cell_type": "code",
   "execution_count": 210,
   "id": "58a461bb",
   "metadata": {},
   "outputs": [
    {
     "data": {
      "text/plain": [
       "['../output/models/preprocessor.joblib']"
      ]
     },
     "execution_count": 210,
     "metadata": {},
     "output_type": "execute_result"
    }
   ],
   "source": [
    "all_cols_names = numerical_cols + list(preprocessor.named_transformers_['cat']['onehot'].get_feature_names_out(categorical_cols))\n",
    "df_processed = pd.DataFrame(X_processed.toarray(), columns=all_cols_names)\n",
    "df_processed['Price'] = y.values\n",
    "df_processed.to_csv(OUTPUT_DATA_PATH, index=False)\n",
    "joblib.dump(preprocessor,OUTPUT_PREPROCESSOR_PATH)"
   ]
  }
 ],
 "metadata": {
  "kernelspec": {
   "display_name": "Python 3",
   "language": "python",
   "name": "python3"
  },
  "language_info": {
   "codemirror_mode": {
    "name": "ipython",
    "version": 3
   },
   "file_extension": ".py",
   "mimetype": "text/x-python",
   "name": "python",
   "nbconvert_exporter": "python",
   "pygments_lexer": "ipython3",
   "version": "3.11.2"
  }
 },
 "nbformat": 4,
 "nbformat_minor": 5
}
