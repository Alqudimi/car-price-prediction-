{
 "cells": [
  {
   "cell_type": "code",
   "execution_count": null,
   "id": "9ef2ecc2",
   "metadata": {},
   "outputs": [],
   "source": [
    "import pandas as pd\n",
    "df = pd.read_csv('../data/raw/UsedCarsSA_Clean_EN.csv')\n"
   ]
  },
  {
   "cell_type": "code",
   "execution_count": 4,
   "id": "badfd308",
   "metadata": {},
   "outputs": [
    {
     "data": {
      "application/vnd.microsoft.datawrangler.viewer.v0+json": {
       "columns": [
        {
         "name": "index",
         "rawType": "object",
         "type": "string"
        },
        {
         "name": "Gear_Type",
         "rawType": "int64",
         "type": "integer"
        }
       ],
       "ref": "364fb3a1-816c-4170-bb82-0678f5d010b0",
       "rows": [
        [
         "Automatic",
         "6971"
        ],
        [
         "Manual",
         "1064"
        ]
       ],
       "shape": {
        "columns": 1,
        "rows": 2
       }
      },
      "text/plain": [
       "Automatic    6971\n",
       "Manual       1064\n",
       "Name: Gear_Type, dtype: int64"
      ]
     },
     "execution_count": 4,
     "metadata": {},
     "output_type": "execute_result"
    }
   ],
   "source": [
    "df['Gear_Type'].value_counts()"
   ]
  },
  {
   "cell_type": "code",
   "execution_count": null,
   "id": "fa3a1951",
   "metadata": {},
   "outputs": [
    {
     "data": {
      "application/vnd.microsoft.datawrangler.viewer.v0+json": {
       "columns": [
        {
         "name": "index",
         "rawType": "object",
         "type": "string"
        },
        {
         "name": "Fuel_Type",
         "rawType": "int64",
         "type": "integer"
        }
       ],
       "ref": "1b85f253-b834-48d6-b395-9624a027e275",
       "rows": [
        [
         "Gas",
         "7861"
        ],
        [
         "Diesel",
         "151"
        ],
        [
         "Hybrid",
         "23"
        ]
       ],
       "shape": {
        "columns": 1,
        "rows": 3
       }
      },
      "text/plain": [
       "Gas       7861\n",
       "Diesel     151\n",
       "Hybrid      23\n",
       "Name: Fuel_Type, dtype: int64"
      ]
     },
     "execution_count": 5,
     "metadata": {},
     "output_type": "execute_result"
    }
   ],
   "source": [
    "df['Fuel_Type'].value_counts()"
   ]
  },
  {
   "cell_type": "code",
   "execution_count": 7,
   "id": "759aa56d",
   "metadata": {},
   "outputs": [
    {
     "data": {
      "application/vnd.microsoft.datawrangler.viewer.v0+json": {
       "columns": [
        {
         "name": "index",
         "rawType": "object",
         "type": "string"
        },
        {
         "name": "Options",
         "rawType": "int64",
         "type": "integer"
        }
       ],
       "ref": "3f3e4c3e-1c89-4fcd-a074-b51008e2399c",
       "rows": [
        [
         "Full",
         "3193"
        ],
        [
         "Standard",
         "2610"
        ],
        [
         "Semi Full",
         "2232"
        ]
       ],
       "shape": {
        "columns": 1,
        "rows": 3
       }
      },
      "text/plain": [
       "Full         3193\n",
       "Standard     2610\n",
       "Semi Full    2232\n",
       "Name: Options, dtype: int64"
      ]
     },
     "execution_count": 7,
     "metadata": {},
     "output_type": "execute_result"
    }
   ],
   "source": [
    "df['Options'].value_counts()\n"
   ]
  }
 ],
 "metadata": {
  "kernelspec": {
   "display_name": "Python 3",
   "language": "python",
   "name": "python3"
  },
  "language_info": {
   "codemirror_mode": {
    "name": "ipython",
    "version": 3
   },
   "file_extension": ".py",
   "mimetype": "text/x-python",
   "name": "python",
   "nbconvert_exporter": "python",
   "pygments_lexer": "ipython3",
   "version": "3.11.2"
  }
 },
 "nbformat": 4,
 "nbformat_minor": 5
}
